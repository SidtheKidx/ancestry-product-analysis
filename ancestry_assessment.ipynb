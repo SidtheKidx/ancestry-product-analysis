{
 "cells": [
  {
   "cell_type": "code",
   "execution_count": 32,
   "metadata": {},
   "outputs": [],
   "source": [
    "import pandas as pd\n",
    "import numpy as np\n",
    "import matplotlib.pyplot as plt\n",
    "import seaborn as sns \n",
    "sns.set()"
   ]
  },
  {
   "cell_type": "code",
   "execution_count": 33,
   "metadata": {},
   "outputs": [],
   "source": [
    "# Initial Dataframe for exploration\n",
    "df = pd.read_csv('/Users/siddharthsingh/Downloads/take-home_exercise_data.csv')"
   ]
  },
  {
   "cell_type": "code",
   "execution_count": 34,
   "metadata": {},
   "outputs": [
    {
     "data": {
      "text/html": [
       "<div>\n",
       "<style scoped>\n",
       "    .dataframe tbody tr th:only-of-type {\n",
       "        vertical-align: middle;\n",
       "    }\n",
       "\n",
       "    .dataframe tbody tr th {\n",
       "        vertical-align: top;\n",
       "    }\n",
       "\n",
       "    .dataframe thead th {\n",
       "        text-align: right;\n",
       "    }\n",
       "</style>\n",
       "<table border=\"1\" class=\"dataframe\">\n",
       "  <thead>\n",
       "    <tr style=\"text-align: right;\">\n",
       "      <th></th>\n",
       "      <th>Unnamed: 0</th>\n",
       "      <th>prospectid</th>\n",
       "      <th>ordernumber</th>\n",
       "      <th>ordercreatedate</th>\n",
       "      <th>regtenure</th>\n",
       "      <th>customer_type_group</th>\n",
       "      <th>dnatestactivationdayid</th>\n",
       "      <th>daystogetresult_grp</th>\n",
       "      <th>dna_visittrafficsubtype</th>\n",
       "      <th>xsell_gsa</th>\n",
       "      <th>xsell_day_exact</th>\n",
       "    </tr>\n",
       "  </thead>\n",
       "  <tbody>\n",
       "    <tr>\n",
       "      <td>0</td>\n",
       "      <td>1</td>\n",
       "      <td>93771712</td>\n",
       "      <td>127707306</td>\n",
       "      <td>2014-11-28</td>\n",
       "      <td>More than 120 days old</td>\n",
       "      <td>Existing Reg</td>\n",
       "      <td>2014-12-10</td>\n",
       "      <td>4 weeks</td>\n",
       "      <td>NaN</td>\n",
       "      <td>1</td>\n",
       "      <td>38.0</td>\n",
       "    </tr>\n",
       "    <tr>\n",
       "      <td>1</td>\n",
       "      <td>2</td>\n",
       "      <td>123112555</td>\n",
       "      <td>114401425</td>\n",
       "      <td>2013-12-05</td>\n",
       "      <td>Order prior to reg</td>\n",
       "      <td>New Reg</td>\n",
       "      <td>2014-01-13</td>\n",
       "      <td>4 weeks</td>\n",
       "      <td>NaN</td>\n",
       "      <td>1</td>\n",
       "      <td>40.0</td>\n",
       "    </tr>\n",
       "    <tr>\n",
       "      <td>2</td>\n",
       "      <td>3</td>\n",
       "      <td>171965960</td>\n",
       "      <td>159656050</td>\n",
       "      <td>2016-11-25</td>\n",
       "      <td>Order prior to reg</td>\n",
       "      <td>New Reg</td>\n",
       "      <td>NaN</td>\n",
       "      <td>-1</td>\n",
       "      <td>Paid Search Non Brand</td>\n",
       "      <td>0</td>\n",
       "      <td>NaN</td>\n",
       "    </tr>\n",
       "    <tr>\n",
       "      <td>3</td>\n",
       "      <td>4</td>\n",
       "      <td>175522116</td>\n",
       "      <td>165370285</td>\n",
       "      <td>2017-03-08</td>\n",
       "      <td>&lt;=60 days</td>\n",
       "      <td>Existing Reg</td>\n",
       "      <td>NaN</td>\n",
       "      <td>-1</td>\n",
       "      <td>Email Programs</td>\n",
       "      <td>0</td>\n",
       "      <td>NaN</td>\n",
       "    </tr>\n",
       "    <tr>\n",
       "      <td>4</td>\n",
       "      <td>5</td>\n",
       "      <td>149288086</td>\n",
       "      <td>132837125</td>\n",
       "      <td>2015-03-30</td>\n",
       "      <td>Order prior to reg</td>\n",
       "      <td>New Reg</td>\n",
       "      <td>2015-04-06</td>\n",
       "      <td>4 weeks</td>\n",
       "      <td>NaN</td>\n",
       "      <td>0</td>\n",
       "      <td>NaN</td>\n",
       "    </tr>\n",
       "    <tr>\n",
       "      <td>5</td>\n",
       "      <td>6</td>\n",
       "      <td>58994698</td>\n",
       "      <td>101317667</td>\n",
       "      <td>2012-10-26</td>\n",
       "      <td>More than 120 days old</td>\n",
       "      <td>Acom Sub</td>\n",
       "      <td>2012-11-30</td>\n",
       "      <td>4 weeks</td>\n",
       "      <td>NaN</td>\n",
       "      <td>0</td>\n",
       "      <td>NaN</td>\n",
       "    </tr>\n",
       "    <tr>\n",
       "      <td>6</td>\n",
       "      <td>7</td>\n",
       "      <td>172404474</td>\n",
       "      <td>166005278</td>\n",
       "      <td>2017-03-19</td>\n",
       "      <td>&lt;=120 days</td>\n",
       "      <td>Existing Reg</td>\n",
       "      <td>2017-03-26</td>\n",
       "      <td>-1</td>\n",
       "      <td>Email Programs</td>\n",
       "      <td>0</td>\n",
       "      <td>NaN</td>\n",
       "    </tr>\n",
       "    <tr>\n",
       "      <td>7</td>\n",
       "      <td>8</td>\n",
       "      <td>148805471</td>\n",
       "      <td>138025122</td>\n",
       "      <td>2015-08-07</td>\n",
       "      <td>More than 120 days old</td>\n",
       "      <td>Acom Sub</td>\n",
       "      <td>2015-08-20</td>\n",
       "      <td>6 weeks</td>\n",
       "      <td>email no source id</td>\n",
       "      <td>0</td>\n",
       "      <td>NaN</td>\n",
       "    </tr>\n",
       "    <tr>\n",
       "      <td>8</td>\n",
       "      <td>9</td>\n",
       "      <td>83821963</td>\n",
       "      <td>153455361</td>\n",
       "      <td>2016-07-14</td>\n",
       "      <td>More than 120 days old</td>\n",
       "      <td>Acom Sub</td>\n",
       "      <td>2016-07-28</td>\n",
       "      <td>6 weeks</td>\n",
       "      <td>direct non-homepage</td>\n",
       "      <td>0</td>\n",
       "      <td>NaN</td>\n",
       "    </tr>\n",
       "    <tr>\n",
       "      <td>9</td>\n",
       "      <td>10</td>\n",
       "      <td>109792034</td>\n",
       "      <td>160111092</td>\n",
       "      <td>2016-11-29</td>\n",
       "      <td>More than 120 days old</td>\n",
       "      <td>Existing Reg</td>\n",
       "      <td>2016-12-21</td>\n",
       "      <td>6 weeks</td>\n",
       "      <td>Email Campaigns</td>\n",
       "      <td>0</td>\n",
       "      <td>NaN</td>\n",
       "    </tr>\n",
       "  </tbody>\n",
       "</table>\n",
       "</div>"
      ],
      "text/plain": [
       "   Unnamed: 0  prospectid  ordernumber ordercreatedate  \\\n",
       "0           1    93771712    127707306      2014-11-28   \n",
       "1           2   123112555    114401425      2013-12-05   \n",
       "2           3   171965960    159656050      2016-11-25   \n",
       "3           4   175522116    165370285      2017-03-08   \n",
       "4           5   149288086    132837125      2015-03-30   \n",
       "5           6    58994698    101317667      2012-10-26   \n",
       "6           7   172404474    166005278      2017-03-19   \n",
       "7           8   148805471    138025122      2015-08-07   \n",
       "8           9    83821963    153455361      2016-07-14   \n",
       "9          10   109792034    160111092      2016-11-29   \n",
       "\n",
       "                regtenure customer_type_group dnatestactivationdayid  \\\n",
       "0  More than 120 days old        Existing Reg             2014-12-10   \n",
       "1      Order prior to reg             New Reg             2014-01-13   \n",
       "2      Order prior to reg             New Reg                    NaN   \n",
       "3               <=60 days        Existing Reg                    NaN   \n",
       "4      Order prior to reg             New Reg             2015-04-06   \n",
       "5  More than 120 days old            Acom Sub             2012-11-30   \n",
       "6              <=120 days        Existing Reg             2017-03-26   \n",
       "7  More than 120 days old            Acom Sub             2015-08-20   \n",
       "8  More than 120 days old            Acom Sub             2016-07-28   \n",
       "9  More than 120 days old        Existing Reg             2016-12-21   \n",
       "\n",
       "  daystogetresult_grp dna_visittrafficsubtype  xsell_gsa  xsell_day_exact  \n",
       "0             4 weeks                     NaN          1             38.0  \n",
       "1             4 weeks                     NaN          1             40.0  \n",
       "2                  -1   Paid Search Non Brand          0              NaN  \n",
       "3                  -1          Email Programs          0              NaN  \n",
       "4             4 weeks                     NaN          0              NaN  \n",
       "5             4 weeks                     NaN          0              NaN  \n",
       "6                  -1          Email Programs          0              NaN  \n",
       "7             6 weeks      email no source id          0              NaN  \n",
       "8             6 weeks     direct non-homepage          0              NaN  \n",
       "9             6 weeks         Email Campaigns          0              NaN  "
      ]
     },
     "execution_count": 34,
     "metadata": {},
     "output_type": "execute_result"
    }
   ],
   "source": [
    "df.head(10)"
   ]
  },
  {
   "cell_type": "markdown",
   "metadata": {},
   "source": [
    "### Data description\n",
    "\n",
    "Column Description\n",
    "\n",
    "- prospectid Unique identifier for customers\n",
    "- ordernumber Unique DNA order id\n",
    "- ordercreatedate Date DNA product was ordered\n",
    "- regtenure Days since the customer registered an email address with Ancestry\n",
    "- customer_type_group Customer type at the time of the DNA order\n",
    "- dnatestactivationdayid Date DNA test is activated. Customers must activate their kit by visiting the\n",
    "- website after ordering for testing\n",
    "- daystogetresult_grp Number of days taken for the DNA test results to be ready\n",
    "- dna_visittrafficsubtype DNA Traffic visit channel, example: ‘Paid Search Non Brand’\n",
    "- xsell_gsa Indicates a new ACOM Subscriber Addition \n",
    "- xsell_day_exact Days between DNA sale and ACOM subscription"
   ]
  },
  {
   "cell_type": "code",
   "execution_count": 35,
   "metadata": {},
   "outputs": [
    {
     "data": {
      "text/plain": [
       "(251942, 11)"
      ]
     },
     "execution_count": 35,
     "metadata": {},
     "output_type": "execute_result"
    }
   ],
   "source": [
    "df.shape"
   ]
  },
  {
   "cell_type": "code",
   "execution_count": 36,
   "metadata": {},
   "outputs": [
    {
     "name": "stdout",
     "output_type": "stream",
     "text": [
      "<class 'pandas.core.frame.DataFrame'>\n",
      "RangeIndex: 251942 entries, 0 to 251941\n",
      "Data columns (total 11 columns):\n",
      "Unnamed: 0                 251942 non-null int64\n",
      "prospectid                 251942 non-null int64\n",
      "ordernumber                251942 non-null int64\n",
      "ordercreatedate            251942 non-null object\n",
      "regtenure                  251942 non-null object\n",
      "customer_type_group        251942 non-null object\n",
      "dnatestactivationdayid     178845 non-null object\n",
      "daystogetresult_grp        251942 non-null object\n",
      "dna_visittrafficsubtype    189093 non-null object\n",
      "xsell_gsa                  251942 non-null int64\n",
      "xsell_day_exact            40579 non-null float64\n",
      "dtypes: float64(1), int64(4), object(6)\n",
      "memory usage: 21.1+ MB\n"
     ]
    }
   ],
   "source": [
    "df.info()"
   ]
  },
  {
   "cell_type": "code",
   "execution_count": 37,
   "metadata": {},
   "outputs": [
    {
     "data": {
      "text/html": [
       "<div>\n",
       "<style scoped>\n",
       "    .dataframe tbody tr th:only-of-type {\n",
       "        vertical-align: middle;\n",
       "    }\n",
       "\n",
       "    .dataframe tbody tr th {\n",
       "        vertical-align: top;\n",
       "    }\n",
       "\n",
       "    .dataframe thead th {\n",
       "        text-align: right;\n",
       "    }\n",
       "</style>\n",
       "<table border=\"1\" class=\"dataframe\">\n",
       "  <thead>\n",
       "    <tr style=\"text-align: right;\">\n",
       "      <th></th>\n",
       "      <th>Unnamed: 0</th>\n",
       "      <th>prospectid</th>\n",
       "      <th>ordernumber</th>\n",
       "      <th>xsell_gsa</th>\n",
       "      <th>xsell_day_exact</th>\n",
       "    </tr>\n",
       "  </thead>\n",
       "  <tbody>\n",
       "    <tr>\n",
       "      <td>count</td>\n",
       "      <td>251942.000000</td>\n",
       "      <td>2.519420e+05</td>\n",
       "      <td>2.519420e+05</td>\n",
       "      <td>251942.000000</td>\n",
       "      <td>40579.000000</td>\n",
       "    </tr>\n",
       "    <tr>\n",
       "      <td>mean</td>\n",
       "      <td>125971.500000</td>\n",
       "      <td>1.144561e+08</td>\n",
       "      <td>1.455821e+08</td>\n",
       "      <td>0.161065</td>\n",
       "      <td>140.674043</td>\n",
       "    </tr>\n",
       "    <tr>\n",
       "      <td>std</td>\n",
       "      <td>72729.535098</td>\n",
       "      <td>5.277515e+07</td>\n",
       "      <td>1.752503e+07</td>\n",
       "      <td>0.367591</td>\n",
       "      <td>668.588251</td>\n",
       "    </tr>\n",
       "    <tr>\n",
       "      <td>min</td>\n",
       "      <td>1.000000</td>\n",
       "      <td>7.600000e+02</td>\n",
       "      <td>9.592366e+07</td>\n",
       "      <td>0.000000</td>\n",
       "      <td>0.000000</td>\n",
       "    </tr>\n",
       "    <tr>\n",
       "      <td>25%</td>\n",
       "      <td>62986.250000</td>\n",
       "      <td>7.189144e+07</td>\n",
       "      <td>1.356459e+08</td>\n",
       "      <td>0.000000</td>\n",
       "      <td>0.000000</td>\n",
       "    </tr>\n",
       "    <tr>\n",
       "      <td>50%</td>\n",
       "      <td>125971.500000</td>\n",
       "      <td>1.243254e+08</td>\n",
       "      <td>1.504135e+08</td>\n",
       "      <td>0.000000</td>\n",
       "      <td>22.000000</td>\n",
       "    </tr>\n",
       "    <tr>\n",
       "      <td>75%</td>\n",
       "      <td>188956.750000</td>\n",
       "      <td>1.649072e+08</td>\n",
       "      <td>1.599612e+08</td>\n",
       "      <td>0.000000</td>\n",
       "      <td>100.000000</td>\n",
       "    </tr>\n",
       "    <tr>\n",
       "      <td>max</td>\n",
       "      <td>251942.000000</td>\n",
       "      <td>1.795105e+08</td>\n",
       "      <td>1.667366e+08</td>\n",
       "      <td>1.000000</td>\n",
       "      <td>42302.000000</td>\n",
       "    </tr>\n",
       "  </tbody>\n",
       "</table>\n",
       "</div>"
      ],
      "text/plain": [
       "          Unnamed: 0    prospectid   ordernumber      xsell_gsa  \\\n",
       "count  251942.000000  2.519420e+05  2.519420e+05  251942.000000   \n",
       "mean   125971.500000  1.144561e+08  1.455821e+08       0.161065   \n",
       "std     72729.535098  5.277515e+07  1.752503e+07       0.367591   \n",
       "min         1.000000  7.600000e+02  9.592366e+07       0.000000   \n",
       "25%     62986.250000  7.189144e+07  1.356459e+08       0.000000   \n",
       "50%    125971.500000  1.243254e+08  1.504135e+08       0.000000   \n",
       "75%    188956.750000  1.649072e+08  1.599612e+08       0.000000   \n",
       "max    251942.000000  1.795105e+08  1.667366e+08       1.000000   \n",
       "\n",
       "       xsell_day_exact  \n",
       "count     40579.000000  \n",
       "mean        140.674043  \n",
       "std         668.588251  \n",
       "min           0.000000  \n",
       "25%           0.000000  \n",
       "50%          22.000000  \n",
       "75%         100.000000  \n",
       "max       42302.000000  "
      ]
     },
     "execution_count": 37,
     "metadata": {},
     "output_type": "execute_result"
    }
   ],
   "source": [
    "df.describe()"
   ]
  },
  {
   "cell_type": "markdown",
   "metadata": {},
   "source": [
    "We consider a customer to be a cross sell (from DNA to ACOM subscription) when the following conditions are met in the data:\n",
    "\n",
    "● xsell_gsa == 1. The customer became a new ACOM subscriber. \n",
    "\n",
    "● xsell_day_exact <= 120. The customer purchased their ACOM subscription within 120 days of their DNA product order."
   ]
  },
  {
   "cell_type": "code",
   "execution_count": 38,
   "metadata": {},
   "outputs": [
    {
     "data": {
      "text/plain": [
       "211363"
      ]
     },
     "execution_count": 38,
     "metadata": {},
     "output_type": "execute_result"
    }
   ],
   "source": [
    "df['xsell_day_exact'].isna().sum()"
   ]
  },
  {
   "cell_type": "code",
   "execution_count": 39,
   "metadata": {},
   "outputs": [
    {
     "data": {
      "text/plain": [
       "Unnamed: 0                  0.000000\n",
       "prospectid                  0.000000\n",
       "ordernumber                 0.000000\n",
       "ordercreatedate             0.000000\n",
       "regtenure                   0.000000\n",
       "customer_type_group         0.000000\n",
       "dnatestactivationdayid     29.013424\n",
       "daystogetresult_grp         0.000000\n",
       "dna_visittrafficsubtype    24.945821\n",
       "xsell_gsa                   0.000000\n",
       "xsell_day_exact            83.893515\n",
       "dtype: float64"
      ]
     },
     "execution_count": 39,
     "metadata": {},
     "output_type": "execute_result"
    }
   ],
   "source": [
    "# percentages of missing value\n",
    "df.isnull().sum() / df.shape[0] * 100"
   ]
  },
  {
   "cell_type": "markdown",
   "metadata": {},
   "source": [
    "### 1. Exploratory Data Analysis | Business logic - \n",
    "\n",
    "1. EDA | Business Process\n",
    "2. What fraction of the observed customers cross-sell to subscription?\n",
    "3. What is the count of customers for each type within the website traffic data. What is the subscription rate across each type.\n",
    "4. Total subscriptions per year to identify the trend and inclination of people to find their DNA information\n",
    "5. Compare the days for actvation vs the time to obtain results. For this, create a new column to compare the dates and find the days between order placed date and activation date. See if there is any +ve/-ve correlation.\n",
    "6. Motive here is to see if the customers have a threshold of patience after which their subscription rates drop significantly. To test this, try clubbing the time for obtaining results into clusters and see if after any point, the subscription rates fall drastically"
   ]
  },
  {
   "cell_type": "code",
   "execution_count": 40,
   "metadata": {},
   "outputs": [
    {
     "data": {
      "text/html": [
       "<div>\n",
       "<style scoped>\n",
       "    .dataframe tbody tr th:only-of-type {\n",
       "        vertical-align: middle;\n",
       "    }\n",
       "\n",
       "    .dataframe tbody tr th {\n",
       "        vertical-align: top;\n",
       "    }\n",
       "\n",
       "    .dataframe thead th {\n",
       "        text-align: right;\n",
       "    }\n",
       "</style>\n",
       "<table border=\"1\" class=\"dataframe\">\n",
       "  <thead>\n",
       "    <tr style=\"text-align: right;\">\n",
       "      <th></th>\n",
       "      <th>Unnamed: 0</th>\n",
       "      <th>prospectid</th>\n",
       "      <th>ordernumber</th>\n",
       "      <th>ordercreatedate</th>\n",
       "      <th>regtenure</th>\n",
       "      <th>customer_type_group</th>\n",
       "      <th>dnatestactivationdayid</th>\n",
       "      <th>daystogetresult_grp</th>\n",
       "      <th>dna_visittrafficsubtype</th>\n",
       "      <th>xsell_gsa</th>\n",
       "      <th>xsell_day_exact</th>\n",
       "    </tr>\n",
       "  </thead>\n",
       "  <tbody>\n",
       "    <tr>\n",
       "      <td>0</td>\n",
       "      <td>1</td>\n",
       "      <td>93771712</td>\n",
       "      <td>127707306</td>\n",
       "      <td>2014-11-28</td>\n",
       "      <td>More than 120 days old</td>\n",
       "      <td>0</td>\n",
       "      <td>2014-12-10</td>\n",
       "      <td>4 weeks</td>\n",
       "      <td>NaN</td>\n",
       "      <td>1</td>\n",
       "      <td>38.0</td>\n",
       "    </tr>\n",
       "    <tr>\n",
       "      <td>1</td>\n",
       "      <td>2</td>\n",
       "      <td>123112555</td>\n",
       "      <td>114401425</td>\n",
       "      <td>2013-12-05</td>\n",
       "      <td>Order prior to reg</td>\n",
       "      <td>1</td>\n",
       "      <td>2014-01-13</td>\n",
       "      <td>4 weeks</td>\n",
       "      <td>NaN</td>\n",
       "      <td>1</td>\n",
       "      <td>40.0</td>\n",
       "    </tr>\n",
       "    <tr>\n",
       "      <td>2</td>\n",
       "      <td>3</td>\n",
       "      <td>171965960</td>\n",
       "      <td>159656050</td>\n",
       "      <td>2016-11-25</td>\n",
       "      <td>Order prior to reg</td>\n",
       "      <td>1</td>\n",
       "      <td>NaN</td>\n",
       "      <td>-1</td>\n",
       "      <td>Paid Search Non Brand</td>\n",
       "      <td>0</td>\n",
       "      <td>NaN</td>\n",
       "    </tr>\n",
       "    <tr>\n",
       "      <td>3</td>\n",
       "      <td>4</td>\n",
       "      <td>175522116</td>\n",
       "      <td>165370285</td>\n",
       "      <td>2017-03-08</td>\n",
       "      <td>&lt;=60 days</td>\n",
       "      <td>0</td>\n",
       "      <td>NaN</td>\n",
       "      <td>-1</td>\n",
       "      <td>Email Programs</td>\n",
       "      <td>0</td>\n",
       "      <td>NaN</td>\n",
       "    </tr>\n",
       "    <tr>\n",
       "      <td>4</td>\n",
       "      <td>5</td>\n",
       "      <td>149288086</td>\n",
       "      <td>132837125</td>\n",
       "      <td>2015-03-30</td>\n",
       "      <td>Order prior to reg</td>\n",
       "      <td>1</td>\n",
       "      <td>2015-04-06</td>\n",
       "      <td>4 weeks</td>\n",
       "      <td>NaN</td>\n",
       "      <td>0</td>\n",
       "      <td>NaN</td>\n",
       "    </tr>\n",
       "    <tr>\n",
       "      <td>...</td>\n",
       "      <td>...</td>\n",
       "      <td>...</td>\n",
       "      <td>...</td>\n",
       "      <td>...</td>\n",
       "      <td>...</td>\n",
       "      <td>...</td>\n",
       "      <td>...</td>\n",
       "      <td>...</td>\n",
       "      <td>...</td>\n",
       "      <td>...</td>\n",
       "      <td>...</td>\n",
       "    </tr>\n",
       "    <tr>\n",
       "      <td>251937</td>\n",
       "      <td>251938</td>\n",
       "      <td>172434095</td>\n",
       "      <td>158455432</td>\n",
       "      <td>2016-11-01</td>\n",
       "      <td>Order prior to reg</td>\n",
       "      <td>1</td>\n",
       "      <td>2016-11-05</td>\n",
       "      <td>3 weeks</td>\n",
       "      <td>direct core homepage</td>\n",
       "      <td>1</td>\n",
       "      <td>0.0</td>\n",
       "    </tr>\n",
       "    <tr>\n",
       "      <td>251938</td>\n",
       "      <td>251939</td>\n",
       "      <td>177244263</td>\n",
       "      <td>166179598</td>\n",
       "      <td>2017-03-22</td>\n",
       "      <td>Order prior to reg</td>\n",
       "      <td>1</td>\n",
       "      <td>NaN</td>\n",
       "      <td>-1</td>\n",
       "      <td>direct core homepage</td>\n",
       "      <td>0</td>\n",
       "      <td>NaN</td>\n",
       "    </tr>\n",
       "    <tr>\n",
       "      <td>251939</td>\n",
       "      <td>251940</td>\n",
       "      <td>170036574</td>\n",
       "      <td>157706878</td>\n",
       "      <td>2016-10-15</td>\n",
       "      <td>&lt;=60 days</td>\n",
       "      <td>0</td>\n",
       "      <td>NaN</td>\n",
       "      <td>-1</td>\n",
       "      <td>email no source id</td>\n",
       "      <td>1</td>\n",
       "      <td>0.0</td>\n",
       "    </tr>\n",
       "    <tr>\n",
       "      <td>251940</td>\n",
       "      <td>251941</td>\n",
       "      <td>79472105</td>\n",
       "      <td>129105293</td>\n",
       "      <td>2015-01-02</td>\n",
       "      <td>More than 120 days old</td>\n",
       "      <td>2</td>\n",
       "      <td>2015-01-17</td>\n",
       "      <td>&gt;10weeks</td>\n",
       "      <td>direct core homepage</td>\n",
       "      <td>0</td>\n",
       "      <td>NaN</td>\n",
       "    </tr>\n",
       "    <tr>\n",
       "      <td>251941</td>\n",
       "      <td>251942</td>\n",
       "      <td>121204050</td>\n",
       "      <td>150128397</td>\n",
       "      <td>2016-05-05</td>\n",
       "      <td>More than 120 days old</td>\n",
       "      <td>2</td>\n",
       "      <td>NaN</td>\n",
       "      <td>-1</td>\n",
       "      <td>internal referrals</td>\n",
       "      <td>0</td>\n",
       "      <td>NaN</td>\n",
       "    </tr>\n",
       "  </tbody>\n",
       "</table>\n",
       "<p>251942 rows × 11 columns</p>\n",
       "</div>"
      ],
      "text/plain": [
       "        Unnamed: 0  prospectid  ordernumber ordercreatedate  \\\n",
       "0                1    93771712    127707306      2014-11-28   \n",
       "1                2   123112555    114401425      2013-12-05   \n",
       "2                3   171965960    159656050      2016-11-25   \n",
       "3                4   175522116    165370285      2017-03-08   \n",
       "4                5   149288086    132837125      2015-03-30   \n",
       "...            ...         ...          ...             ...   \n",
       "251937      251938   172434095    158455432      2016-11-01   \n",
       "251938      251939   177244263    166179598      2017-03-22   \n",
       "251939      251940   170036574    157706878      2016-10-15   \n",
       "251940      251941    79472105    129105293      2015-01-02   \n",
       "251941      251942   121204050    150128397      2016-05-05   \n",
       "\n",
       "                     regtenure  customer_type_group dnatestactivationdayid  \\\n",
       "0       More than 120 days old                    0             2014-12-10   \n",
       "1           Order prior to reg                    1             2014-01-13   \n",
       "2           Order prior to reg                    1                    NaN   \n",
       "3                    <=60 days                    0                    NaN   \n",
       "4           Order prior to reg                    1             2015-04-06   \n",
       "...                        ...                  ...                    ...   \n",
       "251937      Order prior to reg                    1             2016-11-05   \n",
       "251938      Order prior to reg                    1                    NaN   \n",
       "251939               <=60 days                    0                    NaN   \n",
       "251940  More than 120 days old                    2             2015-01-17   \n",
       "251941  More than 120 days old                    2                    NaN   \n",
       "\n",
       "       daystogetresult_grp dna_visittrafficsubtype  xsell_gsa  xsell_day_exact  \n",
       "0                  4 weeks                     NaN          1             38.0  \n",
       "1                  4 weeks                     NaN          1             40.0  \n",
       "2                       -1   Paid Search Non Brand          0              NaN  \n",
       "3                       -1          Email Programs          0              NaN  \n",
       "4                  4 weeks                     NaN          0              NaN  \n",
       "...                    ...                     ...        ...              ...  \n",
       "251937             3 weeks    direct core homepage          1              0.0  \n",
       "251938                  -1    direct core homepage          0              NaN  \n",
       "251939                  -1      email no source id          1              0.0  \n",
       "251940            >10weeks    direct core homepage          0              NaN  \n",
       "251941                  -1      internal referrals          0              NaN  \n",
       "\n",
       "[251942 rows x 11 columns]"
      ]
     },
     "execution_count": 40,
     "metadata": {},
     "output_type": "execute_result"
    }
   ],
   "source": [
    "# Label Encoding customer_type_group where \"Existing Reg\" = 0,\"New Reg\" = 1, \"Acom Sub\" = 2\n",
    "df.customer_type_group.unique()\n",
    "df[\"customer_type_group\"] = df[\"customer_type_group\"].map({\"Existing Reg\":0,\"New Reg\":1, \"Acom Sub\":2})\n",
    "df"
   ]
  },
  {
   "cell_type": "code",
   "execution_count": 41,
   "metadata": {},
   "outputs": [
    {
     "data": {
      "text/plain": [
       "array([nan, 'Paid Search Non Brand', 'Email Programs',\n",
       "       'email no source id', 'direct non-homepage', 'Email Campaigns',\n",
       "       'direct dna homepage', 'direct core homepage', 'geo-redirect',\n",
       "       'paid search – dna brand', 'organic dna brand',\n",
       "       'internal referrals', 'paid search – core brand',\n",
       "       'Affiliate External', 'organic core brand', 'External Paid Media',\n",
       "       'content marketing', 'organic nonbrand', 'Radio Brand/PR',\n",
       "       'Paid Search GDN ', 'social media organic', 'iOS App', 'Inbound',\n",
       "       'external referrals', 'FindAGrave', 'Direct Mail',\n",
       "       'FTM Software Integration', 'Social', 'Web Property', 'Search',\n",
       "       'Partners', 'Direct', 'Digital Video',\n",
       "       'Telemarketing Other (short term 8/31/05)', 'Windows App',\n",
       "       'TV Brand/PR', 'External Email', 'DNA App', 'Mobile',\n",
       "       'Android App', 'Social Media Natural ', 'Feeders', 'Display',\n",
       "       'Library/Assoc.', 'Biz Dev', 'Overlays', 'Kiosk'], dtype=object)"
      ]
     },
     "execution_count": 41,
     "metadata": {},
     "output_type": "execute_result"
    }
   ],
   "source": [
    "df.dna_visittrafficsubtype.unique()"
   ]
  },
  {
   "cell_type": "markdown",
   "metadata": {},
   "source": [
    "#### Dropping NAN values across the dataframe since Scaling and Standardisation is subjected to business process and no constraints are given for normalisation of NAN values "
   ]
  },
  {
   "cell_type": "code",
   "execution_count": 42,
   "metadata": {},
   "outputs": [],
   "source": [
    "# df_ancestry = original dataframe without NaNs\n",
    "df_ancestry = df.dropna().reset_index()"
   ]
  },
  {
   "cell_type": "code",
   "execution_count": 43,
   "metadata": {},
   "outputs": [],
   "source": [
    "df_ancestry.drop(['index'], axis=1, inplace=True)"
   ]
  },
  {
   "cell_type": "code",
   "execution_count": 44,
   "metadata": {},
   "outputs": [
    {
     "data": {
      "text/plain": [
       "Unnamed: 0                 0\n",
       "prospectid                 0\n",
       "ordernumber                0\n",
       "ordercreatedate            0\n",
       "regtenure                  0\n",
       "customer_type_group        0\n",
       "dnatestactivationdayid     0\n",
       "daystogetresult_grp        0\n",
       "dna_visittrafficsubtype    0\n",
       "xsell_gsa                  0\n",
       "xsell_day_exact            0\n",
       "dtype: int64"
      ]
     },
     "execution_count": 44,
     "metadata": {},
     "output_type": "execute_result"
    }
   ],
   "source": [
    "df_ancestry.isnull().sum()"
   ]
  },
  {
   "cell_type": "code",
   "execution_count": 45,
   "metadata": {},
   "outputs": [
    {
     "data": {
      "text/plain": [
       "(25880, 11)"
      ]
     },
     "execution_count": 45,
     "metadata": {},
     "output_type": "execute_result"
    }
   ],
   "source": [
    "df_ancestry.shape"
   ]
  },
  {
   "cell_type": "code",
   "execution_count": 46,
   "metadata": {},
   "outputs": [],
   "source": [
    "# Label Encoding categorical variables from 'dna_visittrafficsubtype' -> new column 'dna_visittrafficsubtype_N'\n",
    "from sklearn.preprocessing import LabelEncoder\n",
    "le = LabelEncoder()\n",
    "df_ancestry['dna_visittrafficsubtype_N'] = le.fit_transform(df_ancestry['dna_visittrafficsubtype'])"
   ]
  },
  {
   "cell_type": "code",
   "execution_count": 47,
   "metadata": {},
   "outputs": [
    {
     "data": {
      "text/plain": [
       "26    5160\n",
       "38    3147\n",
       "6     2299\n",
       "15    2152\n",
       "37    1760\n",
       "33    1705\n",
       "35    1355\n",
       "28    1141\n",
       "27    1089\n",
       "29    1049\n",
       "34     986\n",
       "9      908\n",
       "36     594\n",
       "0      592\n",
       "7      513\n",
       "32     264\n",
       "25     255\n",
       "14     184\n",
       "39     173\n",
       "31     160\n",
       "30     143\n",
       "19      51\n",
       "16      44\n",
       "5       32\n",
       "23      29\n",
       "17      25\n",
       "11      13\n",
       "1       12\n",
       "18      10\n",
       "22       7\n",
       "20       5\n",
       "3        5\n",
       "8        4\n",
       "10       4\n",
       "12       3\n",
       "21       2\n",
       "24       2\n",
       "4        1\n",
       "2        1\n",
       "13       1\n",
       "Name: dna_visittrafficsubtype_N, dtype: int64"
      ]
     },
     "execution_count": 47,
     "metadata": {},
     "output_type": "execute_result"
    }
   ],
   "source": [
    "df_ancestry['dna_visittrafficsubtype_N'].value_counts()"
   ]
  },
  {
   "cell_type": "code",
   "execution_count": 48,
   "metadata": {},
   "outputs": [],
   "source": [
    "df_ancestry.drop(['dna_visittrafficsubtype', 'Unnamed: 0'], axis=1, inplace=True)"
   ]
  },
  {
   "cell_type": "code",
   "execution_count": 49,
   "metadata": {},
   "outputs": [
    {
     "data": {
      "text/html": [
       "<div>\n",
       "<style scoped>\n",
       "    .dataframe tbody tr th:only-of-type {\n",
       "        vertical-align: middle;\n",
       "    }\n",
       "\n",
       "    .dataframe tbody tr th {\n",
       "        vertical-align: top;\n",
       "    }\n",
       "\n",
       "    .dataframe thead th {\n",
       "        text-align: right;\n",
       "    }\n",
       "</style>\n",
       "<table border=\"1\" class=\"dataframe\">\n",
       "  <thead>\n",
       "    <tr style=\"text-align: right;\">\n",
       "      <th></th>\n",
       "      <th>prospectid</th>\n",
       "      <th>ordernumber</th>\n",
       "      <th>ordercreatedate</th>\n",
       "      <th>regtenure</th>\n",
       "      <th>customer_type_group</th>\n",
       "      <th>dnatestactivationdayid</th>\n",
       "      <th>daystogetresult_grp</th>\n",
       "      <th>xsell_gsa</th>\n",
       "      <th>xsell_day_exact</th>\n",
       "      <th>dna_visittrafficsubtype_N</th>\n",
       "    </tr>\n",
       "  </thead>\n",
       "  <tbody>\n",
       "    <tr>\n",
       "      <td>0</td>\n",
       "      <td>80132869</td>\n",
       "      <td>142652370</td>\n",
       "      <td>2015-11-27</td>\n",
       "      <td>More than 120 days old</td>\n",
       "      <td>0</td>\n",
       "      <td>2015-12-01</td>\n",
       "      <td>4 weeks</td>\n",
       "      <td>1</td>\n",
       "      <td>0.0</td>\n",
       "      <td>26</td>\n",
       "    </tr>\n",
       "    <tr>\n",
       "      <td>1</td>\n",
       "      <td>173226869</td>\n",
       "      <td>158542275</td>\n",
       "      <td>2016-11-03</td>\n",
       "      <td>Order prior to reg</td>\n",
       "      <td>1</td>\n",
       "      <td>2016-11-09</td>\n",
       "      <td>3 weeks</td>\n",
       "      <td>1</td>\n",
       "      <td>0.0</td>\n",
       "      <td>15</td>\n",
       "    </tr>\n",
       "    <tr>\n",
       "      <td>2</td>\n",
       "      <td>172049320</td>\n",
       "      <td>160086365</td>\n",
       "      <td>2016-11-29</td>\n",
       "      <td>Order prior to reg</td>\n",
       "      <td>1</td>\n",
       "      <td>2016-12-23</td>\n",
       "      <td>6 weeks</td>\n",
       "      <td>1</td>\n",
       "      <td>0.0</td>\n",
       "      <td>33</td>\n",
       "    </tr>\n",
       "    <tr>\n",
       "      <td>3</td>\n",
       "      <td>85355806</td>\n",
       "      <td>156673941</td>\n",
       "      <td>2016-09-22</td>\n",
       "      <td>More than 120 days old</td>\n",
       "      <td>0</td>\n",
       "      <td>2016-10-01</td>\n",
       "      <td>4 weeks</td>\n",
       "      <td>1</td>\n",
       "      <td>16.0</td>\n",
       "      <td>26</td>\n",
       "    </tr>\n",
       "    <tr>\n",
       "      <td>4</td>\n",
       "      <td>63764822</td>\n",
       "      <td>156066418</td>\n",
       "      <td>2016-09-09</td>\n",
       "      <td>More than 120 days old</td>\n",
       "      <td>2</td>\n",
       "      <td>2016-09-16</td>\n",
       "      <td>4 weeks</td>\n",
       "      <td>1</td>\n",
       "      <td>0.0</td>\n",
       "      <td>26</td>\n",
       "    </tr>\n",
       "  </tbody>\n",
       "</table>\n",
       "</div>"
      ],
      "text/plain": [
       "   prospectid  ordernumber ordercreatedate               regtenure  \\\n",
       "0    80132869    142652370      2015-11-27  More than 120 days old   \n",
       "1   173226869    158542275      2016-11-03      Order prior to reg   \n",
       "2   172049320    160086365      2016-11-29      Order prior to reg   \n",
       "3    85355806    156673941      2016-09-22  More than 120 days old   \n",
       "4    63764822    156066418      2016-09-09  More than 120 days old   \n",
       "\n",
       "   customer_type_group dnatestactivationdayid daystogetresult_grp  xsell_gsa  \\\n",
       "0                    0             2015-12-01             4 weeks          1   \n",
       "1                    1             2016-11-09             3 weeks          1   \n",
       "2                    1             2016-12-23             6 weeks          1   \n",
       "3                    0             2016-10-01             4 weeks          1   \n",
       "4                    2             2016-09-16             4 weeks          1   \n",
       "\n",
       "   xsell_day_exact  dna_visittrafficsubtype_N  \n",
       "0              0.0                         26  \n",
       "1              0.0                         15  \n",
       "2              0.0                         33  \n",
       "3             16.0                         26  \n",
       "4              0.0                         26  "
      ]
     },
     "execution_count": 49,
     "metadata": {},
     "output_type": "execute_result"
    }
   ],
   "source": [
    "df_ancestry.head()"
   ]
  },
  {
   "cell_type": "markdown",
   "metadata": {},
   "source": [
    " ### 2. What fraction of the observed customers cross-sell to subscription?"
   ]
  },
  {
   "cell_type": "code",
   "execution_count": 50,
   "metadata": {},
   "outputs": [],
   "source": [
    "# CHECK: distribution of customer cross sell when 'xsell_gsa' == 1 and 'xsell_day_exact' <= 120\n",
    "df_ancestry_cross_sell = df_ancestry[(df_ancestry['xsell_gsa'] == 1) & (df_ancestry['xsell_day_exact'] <= 120)]"
   ]
  },
  {
   "cell_type": "code",
   "execution_count": 51,
   "metadata": {},
   "outputs": [
    {
     "data": {
      "text/plain": [
       "0.845015455950541"
      ]
     },
     "execution_count": 51,
     "metadata": {},
     "output_type": "execute_result"
    }
   ],
   "source": [
    "# Fraction = cross_sell customers / subscribed customers\n",
    "df_ancestry_cross_sell.shape[0] / df_ancestry[df_ancestry['xsell_gsa'] == 1].shape[0]"
   ]
  },
  {
   "cell_type": "markdown",
   "metadata": {},
   "source": [
    "#### Approx 84.5% of DNA customers get converted to ACOM subscribers "
   ]
  },
  {
   "cell_type": "markdown",
   "metadata": {},
   "source": [
    "### 3. What is the count of customers for each type within the website traffic data. What is the subscription rate across each type."
   ]
  },
  {
   "cell_type": "code",
   "execution_count": 52,
   "metadata": {},
   "outputs": [
    {
     "data": {
      "text/plain": [
       "<matplotlib.axes._subplots.AxesSubplot at 0x7fef131f1a10>"
      ]
     },
     "execution_count": 52,
     "metadata": {},
     "output_type": "execute_result"
    },
    {
     "data": {
      "image/png": "[encoded data removed]",
      "text/plain": [
       "<Figure size 432x288 with 1 Axes>"
      ]
     },
     "metadata": {},
     "output_type": "display_data"
    }
   ],
   "source": [
    "# Count plot for each customer_type_group \"Existing Reg\" = 0,\"New Reg\" = 1, \"Acom Sub\" = 2\n",
    "# count of subscribed customers for each type within the website traffic data\n",
    "sns.countplot(x=\"customer_type_group\", data=df_ancestry[df_ancestry['xsell_gsa'] == 1])"
   ]
  },
  {
   "cell_type": "code",
   "execution_count": 53,
   "metadata": {},
   "outputs": [
    {
     "data": {
      "text/plain": [
       "<matplotlib.axes._subplots.AxesSubplot at 0x7feef91dec10>"
      ]
     },
     "execution_count": 53,
     "metadata": {},
     "output_type": "execute_result"
    },
    {
     "data": {
      "image/png": "[encoded data removed]",
      "text/plain": [
       "<Figure size 432x288 with 1 Axes>"
      ]
     },
     "metadata": {},
     "output_type": "display_data"
    }
   ],
   "source": [
    "# Count plot for each customer_type_group \"Existing Reg\" = 0,\"New Reg\" = 1, \"Acom Sub\" = 2\n",
    "# count of cross selling customers for each type \n",
    "sns.countplot(x=\"customer_type_group\", data=df_ancestry_cross_sell)"
   ]
  },
  {
   "cell_type": "markdown",
   "metadata": {},
   "source": [
    "#### -- Existing customers are the most likely to be CROSS-SELLING ACOM subscribers\n",
    "#### -- Followed by New registers then ACOM subscribers"
   ]
  },
  {
   "cell_type": "markdown",
   "metadata": {},
   "source": [
    "#### Countplot \"customer_type_group\" VS. 'dna_visittrafficsubtype_N'"
   ]
  },
  {
   "cell_type": "code",
   "execution_count": 54,
   "metadata": {},
   "outputs": [],
   "source": [
    "df_cp = df_ancestry_cross_sell.copy()\n",
    "df_cp[\"traffic_class\"] = df.dna_visittrafficsubtype"
   ]
  },
  {
   "cell_type": "code",
   "execution_count": 55,
   "metadata": {},
   "outputs": [],
   "source": [
    "df_cp = df_cp.dropna()"
   ]
  },
  {
   "cell_type": "code",
   "execution_count": 63,
   "metadata": {},
   "outputs": [
    {
     "data": {
      "text/html": [
       "<div>\n",
       "<style scoped>\n",
       "    .dataframe tbody tr th:only-of-type {\n",
       "        vertical-align: middle;\n",
       "    }\n",
       "\n",
       "    .dataframe tbody tr th {\n",
       "        vertical-align: top;\n",
       "    }\n",
       "\n",
       "    .dataframe thead th {\n",
       "        text-align: right;\n",
       "    }\n",
       "</style>\n",
       "<table border=\"1\" class=\"dataframe\">\n",
       "  <thead>\n",
       "    <tr style=\"text-align: right;\">\n",
       "      <th></th>\n",
       "      <th>index</th>\n",
       "      <th>prospectid</th>\n",
       "      <th>ordernumber</th>\n",
       "      <th>ordercreatedate</th>\n",
       "      <th>regtenure</th>\n",
       "      <th>customer_type_group</th>\n",
       "      <th>dnatestactivationdayid</th>\n",
       "      <th>daystogetresult_grp</th>\n",
       "      <th>xsell_gsa</th>\n",
       "      <th>xsell_day_exact</th>\n",
       "      <th>dna_visittrafficsubtype_N</th>\n",
       "      <th>traffic_class</th>\n",
       "    </tr>\n",
       "  </thead>\n",
       "  <tbody>\n",
       "    <tr>\n",
       "      <td>0</td>\n",
       "      <td>2</td>\n",
       "      <td>172049320</td>\n",
       "      <td>160086365</td>\n",
       "      <td>2016-11-29</td>\n",
       "      <td>Order prior to reg</td>\n",
       "      <td>1</td>\n",
       "      <td>2016-12-23</td>\n",
       "      <td>6 weeks</td>\n",
       "      <td>1</td>\n",
       "      <td>0.0</td>\n",
       "      <td>33</td>\n",
       "      <td>Paid Search Non Brand</td>\n",
       "    </tr>\n",
       "    <tr>\n",
       "      <td>1</td>\n",
       "      <td>3</td>\n",
       "      <td>85355806</td>\n",
       "      <td>156673941</td>\n",
       "      <td>2016-09-22</td>\n",
       "      <td>More than 120 days old</td>\n",
       "      <td>0</td>\n",
       "      <td>2016-10-01</td>\n",
       "      <td>4 weeks</td>\n",
       "      <td>1</td>\n",
       "      <td>16.0</td>\n",
       "      <td>26</td>\n",
       "      <td>Email Programs</td>\n",
       "    </tr>\n",
       "    <tr>\n",
       "      <td>2</td>\n",
       "      <td>7</td>\n",
       "      <td>170252680</td>\n",
       "      <td>157087171</td>\n",
       "      <td>2016-10-01</td>\n",
       "      <td>Order prior to reg</td>\n",
       "      <td>1</td>\n",
       "      <td>2016-10-14</td>\n",
       "      <td>4 weeks</td>\n",
       "      <td>1</td>\n",
       "      <td>0.0</td>\n",
       "      <td>34</td>\n",
       "      <td>email no source id</td>\n",
       "    </tr>\n",
       "    <tr>\n",
       "      <td>3</td>\n",
       "      <td>8</td>\n",
       "      <td>166883103</td>\n",
       "      <td>151008229</td>\n",
       "      <td>2016-05-24</td>\n",
       "      <td>Order prior to reg</td>\n",
       "      <td>1</td>\n",
       "      <td>2016-07-27</td>\n",
       "      <td>6 weeks</td>\n",
       "      <td>1</td>\n",
       "      <td>103.0</td>\n",
       "      <td>15</td>\n",
       "      <td>direct non-homepage</td>\n",
       "    </tr>\n",
       "    <tr>\n",
       "      <td>4</td>\n",
       "      <td>12</td>\n",
       "      <td>69980478</td>\n",
       "      <td>157263493</td>\n",
       "      <td>2016-10-05</td>\n",
       "      <td>More than 120 days old</td>\n",
       "      <td>0</td>\n",
       "      <td>2016-10-23</td>\n",
       "      <td>5 weeks</td>\n",
       "      <td>1</td>\n",
       "      <td>18.0</td>\n",
       "      <td>26</td>\n",
       "      <td>Email Campaigns</td>\n",
       "    </tr>\n",
       "    <tr>\n",
       "      <td>...</td>\n",
       "      <td>...</td>\n",
       "      <td>...</td>\n",
       "      <td>...</td>\n",
       "      <td>...</td>\n",
       "      <td>...</td>\n",
       "      <td>...</td>\n",
       "      <td>...</td>\n",
       "      <td>...</td>\n",
       "      <td>...</td>\n",
       "      <td>...</td>\n",
       "      <td>...</td>\n",
       "      <td>...</td>\n",
       "    </tr>\n",
       "    <tr>\n",
       "      <td>16474</td>\n",
       "      <td>25874</td>\n",
       "      <td>163455654</td>\n",
       "      <td>147006599</td>\n",
       "      <td>2016-03-01</td>\n",
       "      <td>&lt;=10 days</td>\n",
       "      <td>0</td>\n",
       "      <td>2016-03-07</td>\n",
       "      <td>5 weeks</td>\n",
       "      <td>1</td>\n",
       "      <td>11.0</td>\n",
       "      <td>38</td>\n",
       "      <td>Paid Search Non Brand</td>\n",
       "    </tr>\n",
       "    <tr>\n",
       "      <td>16475</td>\n",
       "      <td>25875</td>\n",
       "      <td>167814493</td>\n",
       "      <td>151401563</td>\n",
       "      <td>2016-06-02</td>\n",
       "      <td>Order prior to reg</td>\n",
       "      <td>1</td>\n",
       "      <td>2016-07-11</td>\n",
       "      <td>5 weeks</td>\n",
       "      <td>1</td>\n",
       "      <td>14.0</td>\n",
       "      <td>26</td>\n",
       "      <td>Affiliate External</td>\n",
       "    </tr>\n",
       "    <tr>\n",
       "      <td>16476</td>\n",
       "      <td>25876</td>\n",
       "      <td>29796092</td>\n",
       "      <td>142605904</td>\n",
       "      <td>2015-11-26</td>\n",
       "      <td>More than 120 days old</td>\n",
       "      <td>2</td>\n",
       "      <td>2015-12-06</td>\n",
       "      <td>3 weeks</td>\n",
       "      <td>1</td>\n",
       "      <td>0.0</td>\n",
       "      <td>26</td>\n",
       "      <td>direct core homepage</td>\n",
       "    </tr>\n",
       "    <tr>\n",
       "      <td>16477</td>\n",
       "      <td>25877</td>\n",
       "      <td>143002040</td>\n",
       "      <td>159950607</td>\n",
       "      <td>2016-11-28</td>\n",
       "      <td>More than 120 days old</td>\n",
       "      <td>0</td>\n",
       "      <td>2016-12-25</td>\n",
       "      <td>6 weeks</td>\n",
       "      <td>1</td>\n",
       "      <td>32.0</td>\n",
       "      <td>6</td>\n",
       "      <td>direct dna homepage</td>\n",
       "    </tr>\n",
       "    <tr>\n",
       "      <td>16478</td>\n",
       "      <td>25878</td>\n",
       "      <td>168816146</td>\n",
       "      <td>153914386</td>\n",
       "      <td>2016-07-24</td>\n",
       "      <td>Order prior to reg</td>\n",
       "      <td>1</td>\n",
       "      <td>2016-08-05</td>\n",
       "      <td>6 weeks</td>\n",
       "      <td>1</td>\n",
       "      <td>0.0</td>\n",
       "      <td>26</td>\n",
       "      <td>Email Campaigns</td>\n",
       "    </tr>\n",
       "  </tbody>\n",
       "</table>\n",
       "<p>16479 rows × 12 columns</p>\n",
       "</div>"
      ],
      "text/plain": [
       "       index  prospectid  ordernumber ordercreatedate               regtenure  \\\n",
       "0          2   172049320    160086365      2016-11-29      Order prior to reg   \n",
       "1          3    85355806    156673941      2016-09-22  More than 120 days old   \n",
       "2          7   170252680    157087171      2016-10-01      Order prior to reg   \n",
       "3          8   166883103    151008229      2016-05-24      Order prior to reg   \n",
       "4         12    69980478    157263493      2016-10-05  More than 120 days old   \n",
       "...      ...         ...          ...             ...                     ...   \n",
       "16474  25874   163455654    147006599      2016-03-01               <=10 days   \n",
       "16475  25875   167814493    151401563      2016-06-02      Order prior to reg   \n",
       "16476  25876    29796092    142605904      2015-11-26  More than 120 days old   \n",
       "16477  25877   143002040    159950607      2016-11-28  More than 120 days old   \n",
       "16478  25878   168816146    153914386      2016-07-24      Order prior to reg   \n",
       "\n",
       "       customer_type_group dnatestactivationdayid daystogetresult_grp  \\\n",
       "0                        1             2016-12-23             6 weeks   \n",
       "1                        0             2016-10-01             4 weeks   \n",
       "2                        1             2016-10-14             4 weeks   \n",
       "3                        1             2016-07-27             6 weeks   \n",
       "4                        0             2016-10-23             5 weeks   \n",
       "...                    ...                    ...                 ...   \n",
       "16474                    0             2016-03-07             5 weeks   \n",
       "16475                    1             2016-07-11             5 weeks   \n",
       "16476                    2             2015-12-06             3 weeks   \n",
       "16477                    0             2016-12-25             6 weeks   \n",
       "16478                    1             2016-08-05             6 weeks   \n",
       "\n",
       "       xsell_gsa  xsell_day_exact  dna_visittrafficsubtype_N  \\\n",
       "0              1              0.0                         33   \n",
       "1              1             16.0                         26   \n",
       "2              1              0.0                         34   \n",
       "3              1            103.0                         15   \n",
       "4              1             18.0                         26   \n",
       "...          ...              ...                        ...   \n",
       "16474          1             11.0                         38   \n",
       "16475          1             14.0                         26   \n",
       "16476          1              0.0                         26   \n",
       "16477          1             32.0                          6   \n",
       "16478          1              0.0                         26   \n",
       "\n",
       "               traffic_class  \n",
       "0      Paid Search Non Brand  \n",
       "1             Email Programs  \n",
       "2         email no source id  \n",
       "3        direct non-homepage  \n",
       "4            Email Campaigns  \n",
       "...                      ...  \n",
       "16474  Paid Search Non Brand  \n",
       "16475     Affiliate External  \n",
       "16476   direct core homepage  \n",
       "16477    direct dna homepage  \n",
       "16478        Email Campaigns  \n",
       "\n",
       "[16479 rows x 12 columns]"
      ]
     },
     "execution_count": 63,
     "metadata": {},
     "output_type": "execute_result"
    }
   ],
   "source": [
    "df_cp.reset_index()"
   ]
  },
  {
   "cell_type": "code",
   "execution_count": 69,
   "metadata": {},
   "outputs": [
    {
     "data": {
      "text/plain": [
       "<seaborn.axisgrid.FacetGrid at 0x7feeff6dcf90>"
      ]
     },
     "execution_count": 69,
     "metadata": {},
     "output_type": "execute_result"
    },
    {
     "data": {
      "image/png": "[encoded data removed]",
      "text/plain": [
       "<Figure size 959.959x720 with 1 Axes>"
      ]
     },
     "metadata": {},
     "output_type": "display_data"
    }
   ],
   "source": [
    "sns.catplot(x=\"customer_type_group\", y=\"dna_visittrafficsubtype_N\", hue=\"traffic_class\", kind=\"bar\", height=10, data=df_cp)"
   ]
  },
  {
   "cell_type": "markdown",
   "metadata": {},
   "source": [
    "### 4. Total subscriptions per year to identify the trend and inclination of people to find their DNA information"
   ]
  },
  {
   "cell_type": "code",
   "execution_count": 59,
   "metadata": {},
   "outputs": [
    {
     "name": "stderr",
     "output_type": "stream",
     "text": [
      "/opt/anaconda3/lib/python3.7/site-packages/ipykernel_launcher.py:1: SettingWithCopyWarning: \n",
      "A value is trying to be set on a copy of a slice from a DataFrame.\n",
      "Try using .loc[row_indexer,col_indexer] = value instead\n",
      "\n",
      "See the caveats in the documentation: http://pandas.pydata.org/pandas-docs/stable/user_guide/indexing.html#returning-a-view-versus-a-copy\n",
      "  \"\"\"Entry point for launching an IPython kernel.\n"
     ]
    }
   ],
   "source": [
    "df_ancestry_cross_sell['year'] = pd.DatetimeIndex(df_ancestry_cross_sell['ordercreatedate']).year"
   ]
  },
  {
   "cell_type": "code",
   "execution_count": 60,
   "metadata": {},
   "outputs": [
    {
     "data": {
      "text/plain": [
       "year\n",
       "2014     1341\n",
       "2015     4965\n",
       "2016    13438\n",
       "2017     2125\n",
       "Name: xsell_gsa, dtype: int64"
      ]
     },
     "execution_count": 60,
     "metadata": {},
     "output_type": "execute_result"
    }
   ],
   "source": [
    "# Total subscriptions grouped by year to identify the trend and inclination of people to find their DNA information\n",
    "df_ancestry_cross_sell.groupby(['year'])['xsell_gsa'].sum()"
   ]
  },
  {
   "cell_type": "code",
   "execution_count": 61,
   "metadata": {},
   "outputs": [
    {
     "data": {
      "text/plain": [
       "<matplotlib.axes._subplots.AxesSubplot at 0x7feefb82edd0>"
      ]
     },
     "execution_count": 61,
     "metadata": {},
     "output_type": "execute_result"
    },
    {
     "data": {
      "image/png": "[encoded data removed]",
      "text/plain": [
       "<Figure size 432x288 with 1 Axes>"
      ]
     },
     "metadata": {},
     "output_type": "display_data"
    }
   ],
   "source": [
    "# Line plot of subscriptions per year\n",
    "df_ancestry_cross_sell.groupby(['year'])['xsell_gsa'].sum().plot(legend=True)"
   ]
  },
  {
   "cell_type": "markdown",
   "metadata": {},
   "source": [
    "#### -- The ACOM subribers grew over 2015 and peaked in 2016, followed by a steep decline"
   ]
  },
  {
   "cell_type": "markdown",
   "metadata": {},
   "source": [
    "### 5. Compare the days for activation vs the time to obtain results. For this, create a new column to compare the dates and find the days between order placed date and activation date. See if there is any +ve/-ve correlation.\n"
   ]
  },
  {
   "cell_type": "markdown",
   "metadata": {},
   "source": [
    "#### -- We can do this by Pearson correlation coefficient from scipy library where we compare 'ordercreatedate', 'dnatestactivationdayid' and 'daystogetresult_grp'"
   ]
  },
  {
   "cell_type": "markdown",
   "metadata": {},
   "source": [
    "### 6. Motive here is to see if the customers have a threshold of patience after which their subscription rates drop significantly. To test this, try clubbing the time for obtaining results into clusters and see if after any point, the subscription rates fall drastically"
   ]
  }
 ],
 "metadata": {
  "kernelspec": {
   "display_name": "Python 3",
   "language": "python",
   "name": "python3"
  },
  "language_info": {
   "codemirror_mode": {
    "name": "ipython",
    "version": 3
   },
   "file_extension": ".py",
   "mimetype": "text/x-python",
   "name": "python",
   "nbconvert_exporter": "python",
   "pygments_lexer": "ipython3",
   "version": "3.7.4"
  }
 },
 "nbformat": 4,
 "nbformat_minor": 2
}
